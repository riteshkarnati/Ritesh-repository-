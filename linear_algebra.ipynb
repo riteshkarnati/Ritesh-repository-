{
  "cells": [
    {
      "cell_type": "markdown",
      "metadata": {
        "id": "view-in-github",
        "colab_type": "text"
      },
      "source": [
        "<a href=\"https://colab.research.google.com/github/riteshkarnati/Ritesh-repository-/blob/main/linear_algebra.ipynb\" target=\"_parent\"><img src=\"https://colab.research.google.com/assets/colab-badge.svg\" alt=\"Open In Colab\"/></a>"
      ]
    },
    {
      "cell_type": "markdown",
      "metadata": {
        "id": "ZfkNibSQgtCZ"
      },
      "source": [
        "## Basics of Linear Algebra"
      ]
    },
    {
      "cell_type": "markdown",
      "source": [
        "\n",
        "## Why Linear Algebra in Machine Learning?\n",
        "\n",
        "Linear algebra is fundamental to:\n",
        "- Image processing (images are matrices of pixels)\n",
        "- Neural networks (weights and activations are matrices)\n",
        "- Data transformations (PCA, feature engineering)\n",
        "- Solving systems of equations efficiently\n",
        "\n",
        "Example: A 28x28 grayscale image is just a 784-dimensional vector!\n"
      ],
      "metadata": {
        "id": "kbDwZTVfgBeD"
      }
    },
    {
      "cell_type": "markdown",
      "source": [
        "## Additional References\n",
        "\n",
        "### Official Documentation\n",
        "- **NumPy Linear Algebra Reference**: https://numpy.org/doc/stable/reference/routines.linalg.html\n",
        "  - Complete function reference with examples\n",
        "\n",
        "### Beginner Tutorials\n",
        "- **SciPy Lecture Notes**: https://scipy-lectures.org/intro/numpy/index.html\n",
        "  - Clear explanations for beginners\n",
        "- **Python Data Science Handbook**: https://jakevdp.github.io/PythonDataScienceHandbook/02.00-introduction-to-numpy.html\n",
        "  - Free online book with practical examples\n",
        "\n",
        "### Mathematical Concepts\n",
        "- **Khan Academy - Linear Algebra**: https://www.khanacademy.org/math/linear-algebra\n",
        "  - Video lessons on core concepts\n",
        "- **MIT OpenCourseWare (Gilbert Strang)**: https://ocw.mit.edu/courses/18-06-linear-algebra-spring-2010/\n",
        "  - Complete university course materials\n",
        "\n",
        "### Visual Learning\n",
        "- **3Blue1Brown - Essence of Linear Algebra**: https://www.youtube.com/playlist?list=PLZHQObOWTQDPD3MizzM2xVFitgF8hE_ab\n",
        "  - Animated visual explanations\n",
        "\n",
        "**Recommended Path**: Start with SciPy Lectures for coding → Khan Academy for math → Keep NumPy docs open as reference"
      ],
      "metadata": {
        "id": "hTntqJDZg1nR"
      }
    },
    {
      "cell_type": "markdown",
      "metadata": {
        "id": "bAPP654PeaPa"
      },
      "source": [
        "Import the NumPy library for Linear Algebra functions and Matplotlib for some plotting functions."
      ]
    },
    {
      "cell_type": "code",
      "execution_count": null,
      "metadata": {
        "id": "ZHOzQlD7eQxm"
      },
      "outputs": [],
      "source": [
        "import numpy as np\n",
        "import matplotlib.pyplot as plt"
      ]
    },
    {
      "cell_type": "markdown",
      "metadata": {
        "id": "YXhIDS8NevLp"
      },
      "source": [
        "### Transpose of Matrix\n",
        "\n",
        "Matrix transpose is performed with the transpose method on a nested list or a Python array, or a higher-dimensional Numpy array."
      ]
    },
    {
      "cell_type": "code",
      "execution_count": null,
      "metadata": {
        "colab": {
          "base_uri": "https://localhost:8080/"
        },
        "id": "NbJbiJ6Sewe0",
        "outputId": "f1703bd6-fd6c-44ff-ade2-e0b6d037ac37"
      },
      "outputs": [
        {
          "output_type": "stream",
          "name": "stdout",
          "text": [
            "a\n",
            " [[1, 2, 3, 4], [2, 3, 4, 5]]\n",
            "b\n",
            " [[1 2]\n",
            " [2 3]\n",
            " [3 4]\n",
            " [4 5]]\n"
          ]
        }
      ],
      "source": [
        " # Transpose of a Matrix (as nested list)\n",
        "a = [[1,2,3,4],[2,3,4,5]]\n",
        "b = np.transpose(a)\n",
        "print('a\\n',a)\n",
        "print('b\\n',b)"
      ]
    },
    {
      "cell_type": "markdown",
      "metadata": {
        "id": "3fUxqcc7fDHn"
      },
      "source": [
        "If the matrix is a NumPy array, it can be treated as an object and method T can be applied over it as follows."
      ]
    },
    {
      "cell_type": "code",
      "execution_count": null,
      "metadata": {
        "colab": {
          "base_uri": "https://localhost:8080/"
        },
        "id": "9lWWJwbsfEKj",
        "outputId": "f14f25b0-a535-4011-c310-e45e61886a0b"
      },
      "outputs": [
        {
          "output_type": "stream",
          "name": "stdout",
          "text": [
            "Matrix and its Transpose\n",
            "a\n",
            " [[1 2 3 4]\n",
            " [2 3 4 5]]\n",
            "b\n",
            " [[1 2]\n",
            " [2 3]\n",
            " [3 4]\n",
            " [4 5]]\n"
          ]
        }
      ],
      "source": [
        "  # Transpose of a Matrix (as NumPy array)\n",
        "print (\"Matrix and its Transpose\")\n",
        "a = np.array([[1,2,3,4],[2,3,4,5]])\n",
        "b = a.T\n",
        "print('a\\n',a)\n",
        "print('b\\n',b)"
      ]
    },
    {
      "cell_type": "markdown",
      "source": [
        "### Visualizing Transpose"
      ],
      "metadata": {
        "id": "iwJ3uRLGe45Q"
      }
    },
    {
      "cell_type": "code",
      "source": [
        "# Let's see what transpose looks like visually\n",
        "fig, (ax1, ax2) = plt.subplots(1, 2, figsize=(10, 4))\n",
        "\n",
        "a = np.array([[1, 2, 3, 4], [2, 3, 4, 5]])\n",
        "b = a.T\n",
        "\n",
        "# Original matrix\n",
        "ax1.imshow(a, cmap='Blues', aspect='auto')\n",
        "ax1.set_title('Original Matrix (2 rows × 4 columns)', fontsize=12)\n",
        "ax1.set_xlabel('Columns')\n",
        "ax1.set_ylabel('Rows')\n",
        "for i in range(a.shape[0]):\n",
        "    for j in range(a.shape[1]):\n",
        "        ax1.text(j, i, str(a[i, j]), ha='center', va='center', fontsize=14, fontweight='bold')\n",
        "\n",
        "# Transposed matrix\n",
        "ax2.imshow(b, cmap='Greens', aspect='auto')\n",
        "ax2.set_title('Transposed Matrix (4 rows × 2 columns)', fontsize=12)\n",
        "ax2.set_xlabel('Columns')\n",
        "ax2.set_ylabel('Rows')\n",
        "for i in range(b.shape[0]):\n",
        "    for j in range(b.shape[1]):\n",
        "        ax2.text(j, i, str(b[i, j]), ha='center', va='center', fontsize=14, fontweight='bold')\n",
        "\n",
        "plt.tight_layout()\n",
        "plt.show()\n",
        "print(\"Notice: Rows became columns, columns became rows!\")"
      ],
      "metadata": {
        "colab": {
          "base_uri": "https://localhost:8080/",
          "height": 424
        },
        "id": "i3wXpCHWe6jg",
        "outputId": "c921f0c4-1546-4dff-c6bc-38e98690f7d8"
      },
      "execution_count": null,
      "outputs": [
        {
          "output_type": "display_data",
          "data": {
            "text/plain": [
              "<Figure size 1000x400 with 2 Axes>"
            ],
            "image/png": "[encoded data removed]"
          },
          "metadata": {}
        },
        {
          "output_type": "stream",
          "name": "stdout",
          "text": [
            "Notice: Rows became columns, columns became rows!\n"
          ]
        }
      ]
    },
    {
      "cell_type": "markdown",
      "metadata": {
        "id": "YFEGttjsfiQe"
      },
      "source": [
        "The dot method of NumPy performs dot-matrix product (scalar product) for 1D or higher dimensional arrays. If the inputs are scalars (numbers), it performs multiplication."
      ]
    },
    {
      "cell_type": "code",
      "execution_count": null,
      "metadata": {
        "colab": {
          "base_uri": "https://localhost:8080/"
        },
        "id": "euFPFMmNfjG-",
        "outputId": "fabfa0de-1d1f-4278-e06b-a42cef9b4701"
      },
      "outputs": [
        {
          "output_type": "stream",
          "name": "stdout",
          "text": [
            "15\n"
          ]
        }
      ],
      "source": [
        " # scalars\n",
        " a = 5\n",
        " b = 3\n",
        " z = np.dot(a,b)\n",
        " print(z)"
      ]
    },
    {
      "cell_type": "code",
      "execution_count": null,
      "metadata": {
        "colab": {
          "base_uri": "https://localhost:8080/"
        },
        "id": "bXk9XEnqfuF4",
        "outputId": "ace736ea-1251-4fe9-adf0-7f711e86c0a5"
      },
      "outputs": [
        {
          "output_type": "stream",
          "name": "stdout",
          "text": [
            "15\n"
          ]
        }
      ],
      "source": [
        " z = a * b\n",
        " print(z)"
      ]
    },
    {
      "cell_type": "markdown",
      "metadata": {
        "id": "kqJ5cmN6f4Go"
      },
      "source": [
        "In the case of one- or higher-dimensional arrays, the inputs can be either NumPy arrays, Python arrays, Python lists or Python’s nested lists."
      ]
    },
    {
      "cell_type": "code",
      "execution_count": null,
      "metadata": {
        "colab": {
          "base_uri": "https://localhost:8080/"
        },
        "id": "U2dUeiHLf5Bx",
        "outputId": "abfdeec9-3925-408a-b2f8-a8daa87a0c19"
      },
      "outputs": [
        {
          "output_type": "stream",
          "name": "stdout",
          "text": [
            "20\n"
          ]
        }
      ],
      "source": [
        " # 1D arrays or vectors\n",
        " a = np.array([1,2,3])  # or a = [1,2,3]\n",
        " b = np.array([2,3,4])  # or b = [2,3,4]\n",
        " z = np.dot(a,b)\n",
        " print(z)\n"
      ]
    },
    {
      "cell_type": "markdown",
      "source": [
        "### Matrix Multiplication - Shape Checker\n",
        "\n",
        "Before multiplying matrices, let's check if they're compatible!"
      ],
      "metadata": {
        "id": "SMsXSzLlfHPM"
      }
    },
    {
      "cell_type": "code",
      "source": [
        "def check_multiply_compatible(A, B):\n",
        "    \"\"\"\n",
        "    Check if two matrices can be multiplied.\n",
        "    This helps avoid shape errors!\n",
        "    \"\"\"\n",
        "    A_shape = np.array(A).shape\n",
        "    B_shape = np.array(B).shape\n",
        "\n",
        "    print(f\"Matrix A shape: {A_shape}\")\n",
        "    print(f\"Matrix B shape: {B_shape}\")\n",
        "\n",
        "    if len(A_shape) == 2 and len(B_shape) == 2:\n",
        "        if A_shape[1] == B_shape[0]:\n",
        "            print(f\"✓ Can multiply! Result shape will be: ({A_shape[0]}, {B_shape[1]})\")\n",
        "            return True\n",
        "        else:\n",
        "            print(f\"✗ Cannot multiply! A has {A_shape[1]} columns but B has {B_shape[0]} rows\")\n",
        "            print(f\"   These must be equal!\")\n",
        "            return False\n",
        "    return None\n",
        "\n",
        "# Test it\n",
        "a = [[1,2,3],[2,0,3]]\n",
        "b = [[3,-1,5],[-2,-6,4], [0,4,4]]\n",
        "check_multiply_compatible(a, b)"
      ],
      "metadata": {
        "colab": {
          "base_uri": "https://localhost:8080/"
        },
        "id": "lZMnYUU7fITL",
        "outputId": "82332a59-3539-4c81-a4c3-af43a28f58ed"
      },
      "execution_count": null,
      "outputs": [
        {
          "output_type": "stream",
          "name": "stdout",
          "text": [
            "Matrix A shape: (2, 3)\n",
            "Matrix B shape: (3, 3)\n",
            "✓ Can multiply! Result shape will be: (2, 3)\n"
          ]
        },
        {
          "output_type": "execute_result",
          "data": {
            "text/plain": [
              "True"
            ]
          },
          "metadata": {},
          "execution_count": 8
        }
      ]
    },
    {
      "cell_type": "code",
      "execution_count": null,
      "metadata": {
        "colab": {
          "base_uri": "https://localhost:8080/"
        },
        "id": "kWFmevo-gIWV",
        "outputId": "52b0129c-55f9-45d7-9373-fdd640991181"
      },
      "outputs": [
        {
          "output_type": "stream",
          "name": "stdout",
          "text": [
            "[[-1 -1 25]\n",
            " [ 6 10 22]\n",
            " [31 27 19]]\n"
          ]
        }
      ],
      "source": [
        " # 2D arrays or matrices\n",
        " a = [[1,2,3],[2,0,3],[7,-5,1]]\n",
        " b = [[3,-1,5],[-2,-6,4], [0,4,4]]\n",
        " z = np.dot(a,b)\n",
        " print(z)\n"
      ]
    },
    {
      "cell_type": "markdown",
      "metadata": {
        "id": "_cEG72RdIkmI"
      },
      "source": [
        "We can obtained the same result using `np.matmul()`."
      ]
    },
    {
      "cell_type": "code",
      "execution_count": null,
      "metadata": {
        "colab": {
          "base_uri": "https://localhost:8080/"
        },
        "id": "hN3aQ5jVIais",
        "outputId": "bdd655ef-f2d6-4501-c7b3-e887954e5f18"
      },
      "outputs": [
        {
          "output_type": "stream",
          "name": "stdout",
          "text": [
            "[[-1 -1 25]\n",
            " [ 6 10 22]\n",
            " [31 27 19]]\n"
          ]
        }
      ],
      "source": [
        "z = np.matmul(a,b)\n",
        "print(z)"
      ]
    },
    {
      "cell_type": "markdown",
      "metadata": {
        "id": "QOgLFDj8g31t"
      },
      "source": [
        "### Numpy Arrays\n",
        "A NumPy array is a Numpy object upon which the dot method can be performed as below. However, this method accepts only NumPy arrays to operate on.\n"
      ]
    },
    {
      "cell_type": "code",
      "execution_count": null,
      "metadata": {
        "colab": {
          "base_uri": "https://localhost:8080/"
        },
        "id": "D61xhcT_g7Eu",
        "outputId": "db8af0c8-d393-4000-8ce7-f252fdda41c5"
      },
      "outputs": [
        {
          "output_type": "stream",
          "name": "stdout",
          "text": [
            "[[-1 -1 25]\n",
            " [ 6 10 22]\n",
            " [31 27 19]]\n"
          ]
        }
      ],
      "source": [
        " # convert lists into NumPy arrays\n",
        " newa = np.array(a)\n",
        " newb = np.array(b)\n",
        " z = newa.dot(newb)\n",
        " print(z)"
      ]
    },
    {
      "cell_type": "markdown",
      "metadata": {
        "id": "QQAta3Razf2b"
      },
      "source": [
        "### The multi_dot method\n",
        "\n",
        "It performs dot (scalar) product with 2 or more input matrices. First and last arrays can be either 1D or 2D arrays. However, the dimensions of the matrices must suit subsequent scalar matrix multiplication."
      ]
    },
    {
      "cell_type": "code",
      "execution_count": null,
      "metadata": {
        "id": "PON5zE_2zXaT"
      },
      "outputs": [],
      "source": [
        " # matrices with random integers: entries ranging from -4 to 4\n",
        " a = np.random.randint(-4,4,(500,5))\n",
        " b = np.random.randint(-4,4,(5,1000))\n",
        " c = np.random.randint(-4,4,(1000,10))\n",
        " d = np.random.randint(-4,4,(10,2000))\n",
        " e = np.random.randint(-4,4,(2000,200))\n",
        " # Perform multiple matrix multiplication\n",
        " z = np.linalg.multi_dot([a,b,c,d,e])"
      ]
    },
    {
      "cell_type": "markdown",
      "metadata": {
        "id": "Nb9iak7Pz4cg"
      },
      "source": [
        "The result of this method can be obtained with successive dot products of matrices but multi_dot functions in an optimized manner. It decides the order of dot multiplication to complete the entire process efficiently."
      ]
    },
    {
      "cell_type": "code",
      "execution_count": null,
      "metadata": {
        "colab": {
          "base_uri": "https://localhost:8080/"
        },
        "id": "fHMnlw7BzzvO",
        "outputId": "e94ffaef-6cea-49d8-c672-d6f9fa72dfc0"
      },
      "outputs": [
        {
          "output_type": "stream",
          "name": "stdout",
          "text": [
            "[[ -6553704  -6474271  -4780763 ...  -4687039  -4305481  -4873630]\n",
            " [-16954372 -15854066 -13530371 ... -12461836 -11699781 -13619384]\n",
            " [-11243768 -10643040  -8921098 ...  -8387508  -8079579  -9099917]\n",
            " ...\n",
            " [ -9840919  -8248583  -6912641 ...  -6631781  -6039175  -6528567]\n",
            " [-12087160 -10787392  -9758849 ...  -8882032  -8570925  -9927780]\n",
            " [  5030770   4549156   3055628 ...   3442142   3311422   2893678]] \n",
            "\n",
            "CPU times: user 3.35 ms, sys: 1.91 ms, total: 5.26 ms\n",
            "Wall time: 5.12 ms\n"
          ]
        }
      ],
      "source": [
        " %%time\n",
        " z = np.linalg.multi_dot([a,b,c,d,e])\n",
        " print(z, '\\n')"
      ]
    },
    {
      "cell_type": "code",
      "execution_count": null,
      "metadata": {
        "colab": {
          "base_uri": "https://localhost:8080/"
        },
        "id": "iBUZFx8_0EDq",
        "outputId": "76a76abc-4a6a-40aa-cf44-6c5bada9f9d1"
      },
      "outputs": [
        {
          "output_type": "stream",
          "name": "stdout",
          "text": [
            "[[ -6553704  -6474271  -4780763 ...  -4687039  -4305481  -4873630]\n",
            " [-16954372 -15854066 -13530371 ... -12461836 -11699781 -13619384]\n",
            " [-11243768 -10643040  -8921098 ...  -8387508  -8079579  -9099917]\n",
            " ...\n",
            " [ -9840919  -8248583  -6912641 ...  -6631781  -6039175  -6528567]\n",
            " [-12087160 -10787392  -9758849 ...  -8882032  -8570925  -9927780]\n",
            " [  5030770   4549156   3055628 ...   3442142   3311422   2893678]] \n",
            "\n",
            "CPU times: user 332 ms, sys: 2.38 ms, total: 334 ms\n",
            "Wall time: 338 ms\n"
          ]
        }
      ],
      "source": [
        " %%time\n",
        " z = a.dot(b).dot(c).dot(d).dot(e)\n",
        " print(z, '\\n')\n"
      ]
    },
    {
      "cell_type": "markdown",
      "metadata": {
        "id": "51oLesAq0MnM"
      },
      "source": [
        "#### Observe the CPU time that multi_dot consumes as against CPU time that successive dot methods consume to arrive at the same solution. Which one is more efficient, why ?"
      ]
    },
    {
      "cell_type": "markdown",
      "source": [
        "**Notice the time difference!** `multi_dot` is much faster because it's smarter about the order."
      ],
      "metadata": {
        "id": "nOBBlDSPfSjt"
      }
    },
    {
      "cell_type": "markdown",
      "metadata": {
        "id": "uCefpm7o0j5y"
      },
      "source": [
        "### Inner Product\n",
        "\n",
        "The inner product is the scalar multiplication of one vector (or matrix) and the transpose of another vector (or matrix). If both arrays are 1D arrays, their dimensions should be identical. If either or both arrays are higher-dimensional, then the last dimensions of both arrays should be identical."
      ]
    },
    {
      "cell_type": "code",
      "execution_count": null,
      "metadata": {
        "colab": {
          "base_uri": "https://localhost:8080/"
        },
        "id": "bmLy4CCs0gCl",
        "outputId": "69378f96-75ae-47b8-99af-703acc94a362"
      },
      "outputs": [
        {
          "output_type": "stream",
          "name": "stdout",
          "text": [
            "[18 21]\n"
          ]
        }
      ],
      "source": [
        " a = np.array([[1,2,3], [4,-1,0]])\n",
        " b = np.array([6,3,2])\n",
        " z = np.inner(a,b)\n",
        " print(z)"
      ]
    },
    {
      "cell_type": "code",
      "execution_count": null,
      "metadata": {
        "colab": {
          "base_uri": "https://localhost:8080/"
        },
        "id": "0aVTzlXC1AwG",
        "outputId": "9743a7c6-4fbb-47cd-a8ab-9edff8f9f23a"
      },
      "outputs": [
        {
          "output_type": "execute_result",
          "data": {
            "text/plain": [
              "array([18, 21])"
            ]
          },
          "metadata": {},
          "execution_count": 16
        }
      ],
      "source": [
        "\n",
        "# The same results can be obtained using the dot method as follows.\n",
        "\n",
        "a.dot(b.T)"
      ]
    },
    {
      "cell_type": "markdown",
      "metadata": {
        "id": "KX34ZLjv1JHD"
      },
      "source": [
        "### Outer Product\n",
        "\n",
        "Outer product is the dot product of a column vector of size Mx1 and a row vector of size 1xN. The resulting array is a matrix of size MxN.\n"
      ]
    },
    {
      "cell_type": "code",
      "execution_count": null,
      "metadata": {
        "colab": {
          "base_uri": "https://localhost:8080/"
        },
        "id": "hktyza1R1G0K",
        "outputId": "ae11cde9-0d5e-4d41-d7e6-a522e3f6cf08"
      },
      "outputs": [
        {
          "output_type": "stream",
          "name": "stdout",
          "text": [
            "[[ 6  3  2]\n",
            " [12  6  4]\n",
            " [18  9  6]\n",
            " [24 12  8]\n",
            " [30 15 10]]\n"
          ]
        }
      ],
      "source": [
        " a = np.array([1,2,3,4,5])\n",
        " b = np.array([6,3,2])\n",
        " z = np.outer(a,b)\n",
        " print(z)"
      ]
    },
    {
      "cell_type": "markdown",
      "metadata": {
        "id": "5vsxEYGq1pKl"
      },
      "source": [
        "The last dimension of the second array and the second-to-last dimension of the first array should be identical to perform matrix multiplication. Further, the symbol @ is also used to perform matrix multiplication."
      ]
    },
    {
      "cell_type": "code",
      "execution_count": null,
      "metadata": {
        "colab": {
          "base_uri": "https://localhost:8080/"
        },
        "id": "ltAaQjPt1p95",
        "outputId": "bec04f96-5c13-4c30-ea64-7c4c23c76ad4"
      },
      "outputs": [
        {
          "output_type": "stream",
          "name": "stdout",
          "text": [
            "(3, 2, 3)\n"
          ]
        }
      ],
      "source": [
        " # Here, 'a' matrix is 3D, which means there are 3 matrices each of 2x5 size\n",
        " # Similarly, for 'b' matrix\n",
        " # So we perform 3 matrix multiplication operations each with 2x5 and 5x3 matrices from a and b\n",
        " a = np.random.random([3,2,5])\n",
        " b = np.random.random([3,5,3])\n",
        " z = a @ b\n",
        " print(z.shape)"
      ]
    },
    {
      "cell_type": "markdown",
      "metadata": {
        "id": "tKi7vaCc1xXd"
      },
      "source": [
        "### Matrix Determinant\n",
        "\n",
        "Matrix determinant can be calculated using the method det available in the linalg module."
      ]
    },
    {
      "cell_type": "code",
      "execution_count": null,
      "metadata": {
        "colab": {
          "base_uri": "https://localhost:8080/"
        },
        "id": "ONGBxJuS1zGP",
        "outputId": "b9be01df-5330-47c6-cac9-8c6a8dd3f1e8"
      },
      "outputs": [
        {
          "output_type": "stream",
          "name": "stdout",
          "text": [
            "131\n"
          ]
        }
      ],
      "source": [
        " # generate a random integer matrix of size 3 by 3\n",
        " a = np.random.randint(1,10,[3,3])\n",
        " det = np.linalg.det(a)\n",
        " print(int(det))"
      ]
    },
    {
      "cell_type": "markdown",
      "metadata": {
        "id": "kmX7izKQ18yY"
      },
      "source": [
        "### Matrix Inverse\n",
        "\n",
        "Inverse of a square matrix can be derived using the inv method of the linalg module.\n"
      ]
    },
    {
      "cell_type": "code",
      "execution_count": null,
      "metadata": {
        "colab": {
          "base_uri": "https://localhost:8080/",
          "height": 356
        },
        "id": "bPvi1QGq1-g8",
        "outputId": "61997233-252c-4e2b-95bb-04c91f277d3c"
      },
      "outputs": [
        {
          "output_type": "error",
          "ename": "LinAlgError",
          "evalue": "Singular matrix",
          "traceback": [
            "\u001b[0;31m---------------------------------------------------------------------------\u001b[0m",
            "\u001b[0;31mLinAlgError\u001b[0m                               Traceback (most recent call last)",
            "\u001b[0;32m/tmp/ipython-input-1048088325.py\u001b[0m in \u001b[0;36m<cell line: 0>\u001b[0;34m()\u001b[0m\n\u001b[1;32m      1\u001b[0m \u001b[0ma\u001b[0m \u001b[0;34m=\u001b[0m \u001b[0mnp\u001b[0m\u001b[0;34m.\u001b[0m\u001b[0mrandom\u001b[0m\u001b[0;34m.\u001b[0m\u001b[0mrandint\u001b[0m\u001b[0;34m(\u001b[0m\u001b[0;36m1\u001b[0m\u001b[0;34m,\u001b[0m\u001b[0;36m10\u001b[0m\u001b[0;34m,\u001b[0m\u001b[0;34m[\u001b[0m\u001b[0;36m3\u001b[0m\u001b[0;34m,\u001b[0m\u001b[0;36m3\u001b[0m\u001b[0;34m]\u001b[0m\u001b[0;34m)\u001b[0m\u001b[0;34m\u001b[0m\u001b[0;34m\u001b[0m\u001b[0m\n\u001b[0;32m----> 2\u001b[0;31m \u001b[0minv\u001b[0m \u001b[0;34m=\u001b[0m \u001b[0mnp\u001b[0m\u001b[0;34m.\u001b[0m\u001b[0mlinalg\u001b[0m\u001b[0;34m.\u001b[0m\u001b[0minv\u001b[0m\u001b[0;34m(\u001b[0m\u001b[0ma\u001b[0m\u001b[0;34m)\u001b[0m\u001b[0;34m\u001b[0m\u001b[0;34m\u001b[0m\u001b[0m\n\u001b[0m\u001b[1;32m      3\u001b[0m \u001b[0mprint\u001b[0m\u001b[0;34m(\u001b[0m\u001b[0ma\u001b[0m\u001b[0;34m)\u001b[0m\u001b[0;34m\u001b[0m\u001b[0;34m\u001b[0m\u001b[0m\n\u001b[1;32m      4\u001b[0m \u001b[0mprint\u001b[0m\u001b[0;34m(\u001b[0m\u001b[0;34m)\u001b[0m\u001b[0;34m\u001b[0m\u001b[0;34m\u001b[0m\u001b[0m\n\u001b[1;32m      5\u001b[0m \u001b[0mprint\u001b[0m\u001b[0;34m(\u001b[0m\u001b[0minv\u001b[0m\u001b[0;34m)\u001b[0m\u001b[0;34m\u001b[0m\u001b[0;34m\u001b[0m\u001b[0m\n",
            "\u001b[0;32m/usr/local/lib/python3.12/dist-packages/numpy/linalg/_linalg.py\u001b[0m in \u001b[0;36minv\u001b[0;34m(a)\u001b[0m\n\u001b[1;32m    606\u001b[0m     with errstate(call=_raise_linalgerror_singular, invalid='call',\n\u001b[1;32m    607\u001b[0m                   over='ignore', divide='ignore', under='ignore'):\n\u001b[0;32m--> 608\u001b[0;31m         \u001b[0mainv\u001b[0m \u001b[0;34m=\u001b[0m \u001b[0m_umath_linalg\u001b[0m\u001b[0;34m.\u001b[0m\u001b[0minv\u001b[0m\u001b[0;34m(\u001b[0m\u001b[0ma\u001b[0m\u001b[0;34m,\u001b[0m \u001b[0msignature\u001b[0m\u001b[0;34m=\u001b[0m\u001b[0msignature\u001b[0m\u001b[0;34m)\u001b[0m\u001b[0;34m\u001b[0m\u001b[0;34m\u001b[0m\u001b[0m\n\u001b[0m\u001b[1;32m    609\u001b[0m     \u001b[0;32mreturn\u001b[0m \u001b[0mwrap\u001b[0m\u001b[0;34m(\u001b[0m\u001b[0mainv\u001b[0m\u001b[0;34m.\u001b[0m\u001b[0mastype\u001b[0m\u001b[0;34m(\u001b[0m\u001b[0mresult_t\u001b[0m\u001b[0;34m,\u001b[0m \u001b[0mcopy\u001b[0m\u001b[0;34m=\u001b[0m\u001b[0;32mFalse\u001b[0m\u001b[0;34m)\u001b[0m\u001b[0;34m)\u001b[0m\u001b[0;34m\u001b[0m\u001b[0;34m\u001b[0m\u001b[0m\n\u001b[1;32m    610\u001b[0m \u001b[0;34m\u001b[0m\u001b[0m\n",
            "\u001b[0;32m/usr/local/lib/python3.12/dist-packages/numpy/linalg/_linalg.py\u001b[0m in \u001b[0;36m_raise_linalgerror_singular\u001b[0;34m(err, flag)\u001b[0m\n\u001b[1;32m    102\u001b[0m \u001b[0;34m\u001b[0m\u001b[0m\n\u001b[1;32m    103\u001b[0m \u001b[0;32mdef\u001b[0m \u001b[0m_raise_linalgerror_singular\u001b[0m\u001b[0;34m(\u001b[0m\u001b[0merr\u001b[0m\u001b[0;34m,\u001b[0m \u001b[0mflag\u001b[0m\u001b[0;34m)\u001b[0m\u001b[0;34m:\u001b[0m\u001b[0;34m\u001b[0m\u001b[0;34m\u001b[0m\u001b[0m\n\u001b[0;32m--> 104\u001b[0;31m     \u001b[0;32mraise\u001b[0m \u001b[0mLinAlgError\u001b[0m\u001b[0;34m(\u001b[0m\u001b[0;34m\"Singular matrix\"\u001b[0m\u001b[0;34m)\u001b[0m\u001b[0;34m\u001b[0m\u001b[0;34m\u001b[0m\u001b[0m\n\u001b[0m\u001b[1;32m    105\u001b[0m \u001b[0;34m\u001b[0m\u001b[0m\n\u001b[1;32m    106\u001b[0m \u001b[0;32mdef\u001b[0m \u001b[0m_raise_linalgerror_nonposdef\u001b[0m\u001b[0;34m(\u001b[0m\u001b[0merr\u001b[0m\u001b[0;34m,\u001b[0m \u001b[0mflag\u001b[0m\u001b[0;34m)\u001b[0m\u001b[0;34m:\u001b[0m\u001b[0;34m\u001b[0m\u001b[0;34m\u001b[0m\u001b[0m\n",
            "\u001b[0;31mLinAlgError\u001b[0m: Singular matrix"
          ]
        }
      ],
      "source": [
        " a = np.random.randint(1,10,[3,3])\n",
        " inv = np.linalg.inv(a)\n",
        " print(a)\n",
        " print()\n",
        " print(inv)\n"
      ]
    },
    {
      "cell_type": "markdown",
      "metadata": {
        "id": "2w2sxTzF2Dpw"
      },
      "source": [
        "### Matrix Power\n",
        "\n",
        "Matrix Power is a general method to obtain either positive or negative powers of a given square matrix. The first negative power of a matrix is technically termed its inverse. Thus, the matrix_power method can be used to find the inverse or any power of a matrix."
      ]
    },
    {
      "cell_type": "code",
      "execution_count": null,
      "metadata": {
        "id": "uHbQXzDd2JDJ"
      },
      "outputs": [],
      "source": [
        " a = np.random.random([4,4])\n",
        " # positive powers of matrix\n",
        " a_2 = np.linalg.matrix_power(a, 2)\n",
        " a_7 = np.linalg.matrix_power(a, 7)\n",
        " # inverse of matrix\n",
        " a_inv_1 = np.linalg.matrix_power(a, -1)\n",
        " a_inv_3 = np.linalg.matrix_power(a, -3)\n",
        " print('matrix \\n', a)\n",
        " print('\\n matrix to the power 2\\n', a_2)\n",
        " print('\\n matrix to the power 7\\n', a_7)\n",
        " print('\\n matrix inverse \\n', a_inv_1)\n",
        " print('\\n matrix cubic inverse \\n', a_inv_3)"
      ]
    },
    {
      "cell_type": "markdown",
      "metadata": {
        "id": "JoJmR88k2ObP"
      },
      "source": [
        "### Eigenvalues and Eigenvectors\n",
        "\n",
        "Eigenvalues and Eigenvectors of a matrix can be determined as follows. If Eigen values cannot be determined, the method throws an error (Eg. Singular matrix)."
      ]
    },
    {
      "cell_type": "code",
      "execution_count": null,
      "metadata": {
        "id": "Ye8paxl82P0x"
      },
      "outputs": [],
      "source": [
        " a = np.arange(9).reshape(3,3)\n",
        " eig_val, eig_vec = np.linalg.eig(a)\n",
        " print('Eigenvalues are: \\n', eig_val)\n",
        " print('\\nEigenvectors are: \\n', eig_vec)\n"
      ]
    },
    {
      "cell_type": "code",
      "execution_count": null,
      "metadata": {
        "id": "iyMHkixI2X-Y"
      },
      "outputs": [],
      "source": [
        "# Eigenvalues alone can be determined using the method eigvals as shown below.\n",
        "\n",
        "a = np.arange(9).reshape(3,3)\n",
        "eigenvalues = np.linalg.eigvals(a)\n",
        "print(eigenvalues)"
      ]
    },
    {
      "cell_type": "markdown",
      "metadata": {
        "id": "9ftxHuxC2eSE"
      },
      "source": [
        "### Traces of a Matrix\n",
        "\n",
        "Traces of a square matrix is the summation of its diagonal elements."
      ]
    },
    {
      "cell_type": "code",
      "execution_count": null,
      "metadata": {
        "id": "WfqE1uaA2fqh"
      },
      "outputs": [],
      "source": [
        "a = np.eye(5)\n",
        "print(a)\n",
        "z = np.trace(a)\n",
        "print('\\nTrace of matrix is: ',z)"
      ]
    },
    {
      "cell_type": "markdown",
      "metadata": {
        "id": "8I1VmBae3QSQ"
      },
      "source": [
        "### Matrix Norm\n",
        "\n",
        "Matrix or vector norm is calculated using the norm method of the linalg module.\n"
      ]
    },
    {
      "cell_type": "code",
      "execution_count": null,
      "metadata": {
        "id": "p1FgJ1683RJ-"
      },
      "outputs": [],
      "source": [
        "a = np.arange(12).reshape(4,3)\n",
        "z = np.linalg.norm(a)\n",
        "print(a)\n",
        "print('\\n Frobenius Norm of above matrix:')\n",
        "print(z)\n"
      ]
    },
    {
      "cell_type": "markdown",
      "metadata": {
        "id": "Wp8kegE03Y1U"
      },
      "source": [
        "#### Norm of Matrix\n",
        "\n",
        "Axis-wise norm determination is also possible by specifying the axis as an integer.\n"
      ]
    },
    {
      "cell_type": "code",
      "execution_count": null,
      "metadata": {
        "id": "-NDr7tMa3aKu"
      },
      "outputs": [],
      "source": [
        "# Norm along axis 0\n",
        "a = np.arange(12).reshape(4,3)\n",
        "z = np.linalg.norm(a, axis=0)\n",
        "print(z)"
      ]
    },
    {
      "cell_type": "markdown",
      "metadata": {
        "id": "rPOUS32B3q-c"
      },
      "source": [
        "### Solving System of Equations\n",
        "\n",
        "When we think of Linear Algebra, the system of linear equations comes to our mind first, as it is tedious, time-consuming and error-prone. NumPy solves systems of linear equations in a fraction of seconds!"
      ]
    },
    {
      "cell_type": "code",
      "execution_count": null,
      "metadata": {
        "id": "bM2EczhP3saM"
      },
      "outputs": [],
      "source": [
        "# Coefficient Matrix\n",
        "a = np.random.randint(1,20,[4,4])\n",
        "# Dependent variable vector\n",
        "b = np.array([4,9,12,7])\n",
        "# solution\n",
        "x = np.linalg.solve(a,b)\n",
        "print('Coefficient Matrix')\n",
        "print(a)\n",
        "print('\\nDependent Variable vector')\n",
        "print(b)\n",
        "print('\\nSolution')\n",
        "print(x)"
      ]
    },
    {
      "cell_type": "code",
      "execution_count": null,
      "metadata": {
        "id": "-b-DT76N4B_Q"
      },
      "outputs": [],
      "source": [
        "# Check for correctness\n",
        "B = a.dot(x)\n",
        "print(B)\n",
        "\n",
        "# This ‘B’ array is identical to the input ‘b’ array. Hence, our solution is correct."
      ]
    },
    {
      "cell_type": "markdown",
      "metadata": {
        "id": "N9A11eBh4K6F"
      },
      "source": [
        "### Singular Value Decomposition\n",
        "\n",
        "Singular Value Decomposition (SVD) is one of the great dimension-reduction algorithms in machine learning. It identifies the principal components and arranges them by rank. The top ranked components contribute greatly to the original array. Here, we explore SVD with an image to get better understanding."
      ]
    },
    {
      "cell_type": "code",
      "execution_count": null,
      "metadata": {
        "id": "4bcLK0uw4MSF"
      },
      "outputs": [],
      "source": [
        "from skimage import data\n",
        "# download a sample image\n",
        "image = data.astronaut()\n",
        "print(image.dtype, image.min(), image.max(), image.shape)\n",
        "plt.imshow(image)\n",
        "plt.show()"
      ]
    },
    {
      "cell_type": "code",
      "execution_count": null,
      "metadata": {
        "id": "jmTyUD7F4Kpg"
      },
      "outputs": [],
      "source": [
        "# Normalize the image by dividing it by the maximum value, 255 and reorder the axes to be (3,400,600).\n",
        "\n",
        "# normalize image\n",
        "img = image/255.0\n",
        "# reorder the axes to have colour channels as the first dimension\n",
        "img = np.transpose(img, axes=(2,0,1))"
      ]
    },
    {
      "cell_type": "markdown",
      "metadata": {
        "id": "OSht9dHH45WB"
      },
      "source": [
        "Perform SVD on the image. It decomposes the original image into three components: U matrix, Sigma vector, and V matrix. The Sigma vector is the diagonal entries of the Sigma matrix. Hence, it is advisable that the Sigma vector may be reformed into a diagonal matrix. It should be noted that the first dimension 3 refers to the three colour channels."
      ]
    },
    {
      "cell_type": "code",
      "execution_count": null,
      "metadata": {
        "id": "mpHJe2Pk46IA"
      },
      "outputs": [],
      "source": [
        "U,S,V = np.linalg.svd(img)\n",
        "print(U.shape, S.shape, V.shape)\n"
      ]
    },
    {
      "cell_type": "code",
      "execution_count": null,
      "metadata": {
        "id": "656YnLf94Kn7"
      },
      "outputs": [],
      "source": [
        "# S matrix should have dimensions suitable for matrix multiplication\n",
        "Sigma = np.zeros((3,512,512))\n",
        "for i in range(3):\n",
        "  np.fill_diagonal(Sigma[i,:,:], S[i,:])\n",
        "print(Sigma.shape)"
      ]
    },
    {
      "cell_type": "code",
      "execution_count": null,
      "metadata": {
        "id": "-p87agUP5FjH"
      },
      "outputs": [],
      "source": [
        "# Reconstruct the original image without any dimension reduction.\n",
        "reconst = U @ Sigma @ V\n",
        "reconst = np.transpose(reconst, axes=(1,2,0))\n",
        "plt.imshow(reconst)\n",
        "plt.show()\n"
      ]
    },
    {
      "cell_type": "markdown",
      "source": [
        "## Common Mistakes to Avoid\n",
        "\n",
        "Here are some errors you might encounter and how to fix them:\n",
        "\n",
        "### 1. Shape Mismatch in Multiplication"
      ],
      "metadata": {
        "id": "f7876wI2flFr"
      }
    },
    {
      "cell_type": "code",
      "source": [
        "print('Common Error Example:')\n",
        "a = np.random.rand(3, 4)\n",
        "b = np.random.rand(3, 4)\n",
        "print(f'A shape: {a.shape}, B shape: {b.shape}')\n",
        "\n",
        "try:\n",
        "    result = a @ b  # This will fail!\n",
        "    print(result)\n",
        "except ValueError as e:\n",
        "    print(f'\\n✗ Error: {e}')\n",
        "    print('\\nFix: Use b.T to transpose B')\n",
        "    result = a @ b.T\n",
        "    print(f'✓ Success! Result shape: {result.shape}')"
      ],
      "metadata": {
        "id": "E6WwWRO_fpEG"
      },
      "execution_count": null,
      "outputs": []
    },
    {
      "cell_type": "code",
      "execution_count": null,
      "metadata": {
        "id": "FrINdxMR5eOZ"
      },
      "outputs": [],
      "source": [
        "# NumPy SVD reconstruction\n",
        "\n",
        "# Reconstruct the data by reducing the common dimensions from 512 to 50.\n",
        "\n",
        "k = 50\n",
        "reconst = U @ Sigma[:,:,:k] @ V[:,:k,:]\n",
        "reconst = np.transpose(reconst, axes=(1,2,0))\n",
        "plt.imshow(reconst)\n",
        "plt.show()"
      ]
    },
    {
      "cell_type": "markdown",
      "metadata": {
        "id": "tRD-0vSM6a1u"
      },
      "source": [
        "#### Dimensionality reduction\n",
        "\n",
        "It is amazing that we reconstructed the image with most details, even at a reduction of ¼.\n",
        "\n",
        "We can once again reconstruct the same image by reducing the data points from 512 to 20.\n"
      ]
    },
    {
      "cell_type": "code",
      "execution_count": null,
      "metadata": {
        "id": "F3vbxx046iPy"
      },
      "outputs": [],
      "source": [
        "k = 20\n",
        "reconst = U @ Sigma[:,:,:k] @ V[:,:k,:]\n",
        "reconst = np.transpose(reconst, axes=(1,2,0))\n",
        "plt.imshow(reconst)\n",
        "plt.show()"
      ]
    },
    {
      "cell_type": "markdown",
      "metadata": {
        "id": "q1TbCX8p6t9x"
      },
      "source": [
        "#### SVD reconstruction\n",
        "\n",
        "Out of 400 data points, merely 20 data points can reconstruct the image with key feature details! This is why the old mathematical algorithm- SVD is still popular in machine learning."
      ]
    },
    {
      "cell_type": "markdown",
      "metadata": {
        "id": "CHmFf8GfKGK8"
      },
      "source": [
        "### Additional References\n",
        "\n",
        "[Numpy Matrix Multiplication Terminology](https://likegeeks.com/numpy-matrix-multiplication/#Basic_Terminologies)"
      ]
    },
    {
      "cell_type": "code",
      "execution_count": null,
      "metadata": {
        "id": "1A3npCtyK5eT"
      },
      "outputs": [],
      "source": []
    }
  ],
  "metadata": {
    "accelerator": "GPU",
    "colab": {
      "provenance": [],
      "include_colab_link": true
    },
    "kernelspec": {
      "display_name": "Python 3",
      "name": "python3"
    },
    "language_info": {
      "name": "python"
    }
  },
  "nbformat": 4,
  "nbformat_minor": 0
}